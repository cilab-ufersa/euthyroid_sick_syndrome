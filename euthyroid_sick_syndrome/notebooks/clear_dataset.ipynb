{
 "cells": [
  {
   "cell_type": "markdown",
   "metadata": {},
   "source": [
    "Formatando o dataset \n",
    " - Adicionando os headers das colunas "
   ]
  },
  {
   "cell_type": "code",
   "execution_count": 22,
   "metadata": {},
   "outputs": [],
   "source": [
    "from euthyroid_sick_syndrome.utils import prepare_dataset\n",
    "\n",
    "labels = ['classification', 'age', 'sex', 'on_thyroxine', 'query_on_thyroxine', 'on_antithyroid_medication', 'thyroid_surgery', 'query_hypothyroid', 'query_hyperthyroid', 'pregnant', 'sick', 'tumor', 'lithium', 'goitre', 'TSH_measured', 'TSH', 'T3_measured', 'T3', 'TT4_measured', 'TT4', 'T4U_measured', 'T4U', 'FTI_measured', 'FTI', 'TBG_measured', 'TBG']\n",
    "# Chamada da função prepare_dataset para preparar o dataset\n",
    "prepare_dataset(path_origin='/home/vinicius/UFERSA/cilab/euthyroid_sick_syndrome/euthyroid_sick_syndrome-1/euthyroid_sick_syndrome/datasets/euthyroid/euthyroid.data', columns_labels=labels, path_destiny='/home/vinicius/UFERSA/cilab/euthyroid_sick_syndrome/euthyroid_sick_syndrome-1/euthyroid_sick_syndrome/datasets/euthyroid/euthyroid.csv')"
   ]
  },
  {
   "cell_type": "markdown",
   "metadata": {},
   "source": [
    "Abrindo o dataset agora com os headers nas colunas "
   ]
  },
  {
   "cell_type": "code",
   "execution_count": 23,
   "metadata": {},
   "outputs": [
    {
     "data": {
      "text/html": [
       "<div>\n",
       "<style scoped>\n",
       "    .dataframe tbody tr th:only-of-type {\n",
       "        vertical-align: middle;\n",
       "    }\n",
       "\n",
       "    .dataframe tbody tr th {\n",
       "        vertical-align: top;\n",
       "    }\n",
       "\n",
       "    .dataframe thead th {\n",
       "        text-align: right;\n",
       "    }\n",
       "</style>\n",
       "<table border=\"1\" class=\"dataframe\">\n",
       "  <thead>\n",
       "    <tr style=\"text-align: right;\">\n",
       "      <th></th>\n",
       "      <th>classification</th>\n",
       "      <th>age</th>\n",
       "      <th>sex</th>\n",
       "      <th>on_thyroxine</th>\n",
       "      <th>query_on_thyroxine</th>\n",
       "      <th>on_antithyroid_medication</th>\n",
       "      <th>thyroid_surgery</th>\n",
       "      <th>query_hypothyroid</th>\n",
       "      <th>query_hyperthyroid</th>\n",
       "      <th>pregnant</th>\n",
       "      <th>...</th>\n",
       "      <th>T3_measured</th>\n",
       "      <th>T3</th>\n",
       "      <th>TT4_measured</th>\n",
       "      <th>TT4</th>\n",
       "      <th>T4U_measured</th>\n",
       "      <th>T4U</th>\n",
       "      <th>FTI_measured</th>\n",
       "      <th>FTI</th>\n",
       "      <th>TBG_measured</th>\n",
       "      <th>TBG</th>\n",
       "    </tr>\n",
       "  </thead>\n",
       "  <tbody>\n",
       "    <tr>\n",
       "      <th>0</th>\n",
       "      <td>sick-euthyroid</td>\n",
       "      <td>45</td>\n",
       "      <td>F</td>\n",
       "      <td>f</td>\n",
       "      <td>f</td>\n",
       "      <td>f</td>\n",
       "      <td>f</td>\n",
       "      <td>f</td>\n",
       "      <td>f</td>\n",
       "      <td>f</td>\n",
       "      <td>...</td>\n",
       "      <td>y</td>\n",
       "      <td>1</td>\n",
       "      <td>y</td>\n",
       "      <td>82</td>\n",
       "      <td>y</td>\n",
       "      <td>0.73</td>\n",
       "      <td>y</td>\n",
       "      <td>112</td>\n",
       "      <td>n</td>\n",
       "      <td>?</td>\n",
       "    </tr>\n",
       "    <tr>\n",
       "      <th>1</th>\n",
       "      <td>sick-euthyroid</td>\n",
       "      <td>64</td>\n",
       "      <td>F</td>\n",
       "      <td>f</td>\n",
       "      <td>f</td>\n",
       "      <td>f</td>\n",
       "      <td>f</td>\n",
       "      <td>f</td>\n",
       "      <td>f</td>\n",
       "      <td>f</td>\n",
       "      <td>...</td>\n",
       "      <td>y</td>\n",
       "      <td>1</td>\n",
       "      <td>y</td>\n",
       "      <td>101</td>\n",
       "      <td>y</td>\n",
       "      <td>0.82</td>\n",
       "      <td>y</td>\n",
       "      <td>123</td>\n",
       "      <td>n</td>\n",
       "      <td>?</td>\n",
       "    </tr>\n",
       "    <tr>\n",
       "      <th>2</th>\n",
       "      <td>sick-euthyroid</td>\n",
       "      <td>56</td>\n",
       "      <td>M</td>\n",
       "      <td>f</td>\n",
       "      <td>f</td>\n",
       "      <td>f</td>\n",
       "      <td>f</td>\n",
       "      <td>f</td>\n",
       "      <td>f</td>\n",
       "      <td>f</td>\n",
       "      <td>...</td>\n",
       "      <td>y</td>\n",
       "      <td>0.80</td>\n",
       "      <td>y</td>\n",
       "      <td>76</td>\n",
       "      <td>y</td>\n",
       "      <td>0.77</td>\n",
       "      <td>y</td>\n",
       "      <td>99</td>\n",
       "      <td>n</td>\n",
       "      <td>?</td>\n",
       "    </tr>\n",
       "    <tr>\n",
       "      <th>3</th>\n",
       "      <td>sick-euthyroid</td>\n",
       "      <td>78</td>\n",
       "      <td>F</td>\n",
       "      <td>t</td>\n",
       "      <td>f</td>\n",
       "      <td>f</td>\n",
       "      <td>f</td>\n",
       "      <td>t</td>\n",
       "      <td>f</td>\n",
       "      <td>f</td>\n",
       "      <td>...</td>\n",
       "      <td>y</td>\n",
       "      <td>0.30</td>\n",
       "      <td>y</td>\n",
       "      <td>87</td>\n",
       "      <td>y</td>\n",
       "      <td>0.95</td>\n",
       "      <td>y</td>\n",
       "      <td>91</td>\n",
       "      <td>n</td>\n",
       "      <td>?</td>\n",
       "    </tr>\n",
       "    <tr>\n",
       "      <th>4</th>\n",
       "      <td>sick-euthyroid</td>\n",
       "      <td>80</td>\n",
       "      <td>M</td>\n",
       "      <td>f</td>\n",
       "      <td>f</td>\n",
       "      <td>f</td>\n",
       "      <td>f</td>\n",
       "      <td>f</td>\n",
       "      <td>f</td>\n",
       "      <td>f</td>\n",
       "      <td>...</td>\n",
       "      <td>y</td>\n",
       "      <td>0.80</td>\n",
       "      <td>y</td>\n",
       "      <td>105</td>\n",
       "      <td>y</td>\n",
       "      <td>0.88</td>\n",
       "      <td>y</td>\n",
       "      <td>120</td>\n",
       "      <td>n</td>\n",
       "      <td>?</td>\n",
       "    </tr>\n",
       "  </tbody>\n",
       "</table>\n",
       "<p>5 rows × 26 columns</p>\n",
       "</div>"
      ],
      "text/plain": [
       "   classification age sex on_thyroxine query_on_thyroxine  \\\n",
       "0  sick-euthyroid  45   F            f                  f   \n",
       "1  sick-euthyroid  64   F            f                  f   \n",
       "2  sick-euthyroid  56   M            f                  f   \n",
       "3  sick-euthyroid  78   F            t                  f   \n",
       "4  sick-euthyroid  80   M            f                  f   \n",
       "\n",
       "  on_antithyroid_medication thyroid_surgery query_hypothyroid  \\\n",
       "0                         f               f                 f   \n",
       "1                         f               f                 f   \n",
       "2                         f               f                 f   \n",
       "3                         f               f                 t   \n",
       "4                         f               f                 f   \n",
       "\n",
       "  query_hyperthyroid pregnant  ... T3_measured    T3 TT4_measured  TT4  \\\n",
       "0                  f        f  ...           y     1            y   82   \n",
       "1                  f        f  ...           y     1            y  101   \n",
       "2                  f        f  ...           y  0.80            y   76   \n",
       "3                  f        f  ...           y  0.30            y   87   \n",
       "4                  f        f  ...           y  0.80            y  105   \n",
       "\n",
       "  T4U_measured   T4U FTI_measured  FTI TBG_measured TBG  \n",
       "0            y  0.73            y  112            n   ?  \n",
       "1            y  0.82            y  123            n   ?  \n",
       "2            y  0.77            y   99            n   ?  \n",
       "3            y  0.95            y   91            n   ?  \n",
       "4            y  0.88            y  120            n   ?  \n",
       "\n",
       "[5 rows x 26 columns]"
      ]
     },
     "execution_count": 23,
     "metadata": {},
     "output_type": "execute_result"
    }
   ],
   "source": [
    "import pandas as pd \n",
    "import numpy as np\n",
    "dataset = pd.read_csv('/home/vinicius/UFERSA/cilab/euthyroid_sick_syndrome/euthyroid_sick_syndrome-1/euthyroid_sick_syndrome/datasets/euthyroid/euthyroid.csv')\n",
    "dataset.head()"
   ]
  },
  {
   "cell_type": "markdown",
   "metadata": {},
   "source": [
    "Removendo as colunas com dados faltantes \n",
    "- O método *drop()* é utilizado. "
   ]
  },
  {
   "cell_type": "code",
   "execution_count": 24,
   "metadata": {},
   "outputs": [
    {
     "name": "stdout",
     "output_type": "stream",
     "text": [
      "<class 'pandas.core.frame.DataFrame'>\n",
      "RangeIndex: 3162 entries, 0 to 3161\n",
      "Data columns (total 24 columns):\n",
      " #   Column                     Non-Null Count  Dtype \n",
      "---  ------                     --------------  ----- \n",
      " 0   classification             3162 non-null   int8  \n",
      " 1   age                        3162 non-null   object\n",
      " 2   sex                        3162 non-null   object\n",
      " 3   on_thyroxine               3162 non-null   object\n",
      " 4   query_on_thyroxine         3162 non-null   object\n",
      " 5   on_antithyroid_medication  3162 non-null   object\n",
      " 6   thyroid_surgery            3162 non-null   object\n",
      " 7   query_hypothyroid          3162 non-null   object\n",
      " 8   query_hyperthyroid         3162 non-null   object\n",
      " 9   pregnant                   3162 non-null   object\n",
      " 10  sick                       3162 non-null   object\n",
      " 11  tumor                      3162 non-null   object\n",
      " 12  lithium                    3162 non-null   object\n",
      " 13  goitre                     3162 non-null   object\n",
      " 14  TSH_measured               3162 non-null   object\n",
      " 15  TSH                        3162 non-null   object\n",
      " 16  T3_measured                3162 non-null   object\n",
      " 17  T3                         3162 non-null   object\n",
      " 18  TT4_measured               3162 non-null   object\n",
      " 19  TT4                        3162 non-null   object\n",
      " 20  T4U_measured               3162 non-null   object\n",
      " 21  T4U                        3162 non-null   object\n",
      " 22  FTI_measured               3162 non-null   object\n",
      " 23  FTI                        3162 non-null   object\n",
      "dtypes: int8(1), object(23)\n",
      "memory usage: 571.4+ KB\n"
     ]
    }
   ],
   "source": [
    "dataset['classification'] = dataset['classification'].astype(\"category\").cat.codes.values    # df['classificação'] labels into numbers 0 is not sick and 1 is sick\n",
    "dataset.drop(['TBG', 'TBG_measured'], axis=1, inplace=True)\n",
    "dataset.info()"
   ]
  },
  {
   "cell_type": "markdown",
   "metadata": {},
   "source": [
    "Verificando a quantidade de dados com ?"
   ]
  },
  {
   "cell_type": "code",
   "execution_count": 25,
   "metadata": {},
   "outputs": [
    {
     "data": {
      "text/plain": [
       "classification                 0\n",
       "age                          446\n",
       "sex                           73\n",
       "on_thyroxine                   0\n",
       "query_on_thyroxine             0\n",
       "on_antithyroid_medication      0\n",
       "thyroid_surgery                0\n",
       "query_hypothyroid              0\n",
       "query_hyperthyroid             0\n",
       "pregnant                       0\n",
       "sick                           0\n",
       "tumor                          0\n",
       "lithium                        0\n",
       "goitre                         0\n",
       "TSH_measured                   0\n",
       "TSH                          467\n",
       "T3_measured                    0\n",
       "T3                           695\n",
       "TT4_measured                   0\n",
       "TT4                          249\n",
       "T4U_measured                   0\n",
       "T4U                          248\n",
       "FTI_measured                   0\n",
       "FTI                          247\n",
       "dtype: int64"
      ]
     },
     "execution_count": 25,
     "metadata": {},
     "output_type": "execute_result"
    }
   ],
   "source": [
    "dataset[dataset == '?'].count()"
   ]
  },
  {
   "cell_type": "markdown",
   "metadata": {},
   "source": [
    "Substituindo os dados faltantes pela média da coluna"
   ]
  },
  {
   "cell_type": "code",
   "execution_count": 26,
   "metadata": {},
   "outputs": [],
   "source": [
    "mean_tsh_1 = dataset['TSH'].loc[(dataset['TSH'] != '?') & (dataset['classification'] ==1)].astype('float').mean()\n",
    "mean_tsh_0 = dataset['TSH'].loc[(dataset['TSH'] != '?') & (dataset['classification'] ==0)].astype('float').mean()\n",
    "mean_t3_1 = dataset['T3'].loc[(dataset['T3'] != '?') & (dataset['classification'] ==1)].astype('float').mean()\n",
    "mean_t3_0 = dataset['T3'].loc[(dataset['T3'] != '?') & (dataset['classification'] ==0)].astype('float').mean()\n",
    "mean_tt4_1 = dataset['TT4'].loc[(dataset['TT4'] != '?') & (dataset['classification'] ==1)].astype('float').mean()\n",
    "mean_tt4_0 = dataset['TT4'].loc[(dataset['TT4'] != '?') & (dataset['classification'] ==0)].astype('float').mean()\n",
    "mean_t4u_1 = dataset['T4U'].loc[(dataset['T4U'] != '?') & (dataset['classification'] ==1)].astype('float').mean()\n",
    "mean_t4u_0 = dataset['T4U'].loc[(dataset['T4U'] != '?') & (dataset['classification'] ==0)].astype('float').mean()\n",
    "mean_fti_1 = dataset['FTI'].loc[(dataset['FTI'] != '?') & (dataset['classification'] ==1)].astype('float').mean()\n",
    "mean_fti_0 = dataset['FTI'].loc[(dataset['FTI'] != '?') & (dataset['classification'] ==0)].astype('float').mean()\n",
    "mean_fti_1 = dataset['FTI'].loc[(dataset['FTI'] != '?') & (dataset['classification'] ==1)].astype('float').mean()\n",
    "mean_age_0 = dataset['age'].loc[(dataset['age'] != '?') & (dataset['classification'] ==0)].astype('int').mean()\n",
    "mean_age_1 = dataset['age'].loc[(dataset['age'] != '?') & (dataset['classification'] ==1)].astype('int').mean()\n",
    "\n",
    "\n",
    "\n",
    "\n",
    "dataset.loc[(dataset['TSH']== '?') & (dataset['classification'] ==0), 'TSH'] = mean_tsh_0\n",
    "dataset.loc[(dataset['TSH']== '?') & (dataset['classification'] ==1), 'TSH'] = mean_tsh_1\n",
    "dataset.loc[(dataset['T3']== '?') & (dataset['classification'] ==0), 'T3'] = mean_t3_0\n",
    "dataset.loc[(dataset['T3'] =='?') & (dataset['classification'] ==1), 'T3'] = mean_t3_1\n",
    "dataset.loc[(dataset['TT4'] =='?') & (dataset['classification'] ==0), 'TT4'] = mean_tt4_0\n",
    "dataset.loc[(dataset['TT4'] == '?') & (dataset['classification'] ==1), 'TT4'] = mean_tt4_1\n",
    "dataset.loc[(dataset['T4U'] == '?') & (dataset['classification'] ==0), 'T4U'] = mean_t4u_0\n",
    "dataset.loc[(dataset['T4U'] == '?') & (dataset['classification'] ==1), 'T4U'] = mean_t4u_1\n",
    "dataset.loc[(dataset['T4U'] == '?') & (dataset['classification'] ==0), 'T4U'] = mean_t4u_0\n",
    "dataset.loc[(dataset['age'] == '?') & (dataset['classification'] ==1), 'age'] = mean_age_1\n",
    "dataset.loc[(dataset['age'] == '?') & (dataset['classification'] ==0), 'age'] = mean_age_0\n",
    "dataset.loc[(dataset['FTI'] == '?') & (dataset['classification'] ==1), 'FTI'] = mean_fti_1\n",
    "dataset.loc[(dataset['FTI'] == '?') & (dataset['classification'] ==0), 'FTI'] = mean_fti_0\n",
    "dataset['age'] = dataset['age'].astype('int')"
   ]
  },
  {
   "cell_type": "markdown",
   "metadata": {},
   "source": [
    "Verificando os dados de gênero faltantes "
   ]
  },
  {
   "cell_type": "code",
   "execution_count": 28,
   "metadata": {},
   "outputs": [
    {
     "data": {
      "text/plain": [
       "3162"
      ]
     },
     "execution_count": 28,
     "metadata": {},
     "output_type": "execute_result"
    }
   ],
   "source": [
    "dataset['sex'].count()"
   ]
  },
  {
   "cell_type": "code",
   "execution_count": 29,
   "metadata": {},
   "outputs": [
    {
     "name": "stdout",
     "output_type": "stream",
     "text": [
      "2182\n",
      "907\n"
     ]
    }
   ],
   "source": [
    "print((dataset['sex']=='F').sum())\n",
    "print((dataset['sex']=='M').sum())"
   ]
  },
  {
   "cell_type": "code",
   "execution_count": 30,
   "metadata": {},
   "outputs": [],
   "source": [
    "# Falta 73 dados. Os faltantes serão substituidos pela moda. \n",
    "dataset['sex'] = dataset['sex'].replace('?', 'F')"
   ]
  },
  {
   "cell_type": "code",
   "execution_count": 31,
   "metadata": {},
   "outputs": [
    {
     "data": {
      "text/plain": [
       "classification               0\n",
       "age                          0\n",
       "sex                          0\n",
       "on_thyroxine                 0\n",
       "query_on_thyroxine           0\n",
       "on_antithyroid_medication    0\n",
       "thyroid_surgery              0\n",
       "query_hypothyroid            0\n",
       "query_hyperthyroid           0\n",
       "pregnant                     0\n",
       "sick                         0\n",
       "tumor                        0\n",
       "lithium                      0\n",
       "goitre                       0\n",
       "TSH_measured                 0\n",
       "TSH                          0\n",
       "T3_measured                  0\n",
       "T3                           0\n",
       "TT4_measured                 0\n",
       "TT4                          0\n",
       "T4U_measured                 0\n",
       "T4U                          0\n",
       "FTI_measured                 0\n",
       "FTI                          0\n",
       "dtype: int64"
      ]
     },
     "execution_count": 31,
     "metadata": {},
     "output_type": "execute_result"
    }
   ],
   "source": [
    "# verificando a quantidade de dados com ?\n",
    "dataset[dataset == '?'].count()"
   ]
  },
  {
   "cell_type": "markdown",
   "metadata": {},
   "source": [
    "Salvando o dataset limpo"
   ]
  },
  {
   "cell_type": "code",
   "execution_count": 32,
   "metadata": {},
   "outputs": [],
   "source": [
    "dataset.to_csv('..\\euthyroid_sick_syndrome\\datasets\\euthyroid\\euthyroid_clean.csv', index=False)"
   ]
  }
 ],
 "metadata": {
  "kernelspec": {
   "display_name": "cilab",
   "language": "python",
   "name": "python3"
  },
  "language_info": {
   "codemirror_mode": {
    "name": "ipython",
    "version": 3
   },
   "file_extension": ".py",
   "mimetype": "text/x-python",
   "name": "python",
   "nbconvert_exporter": "python",
   "pygments_lexer": "ipython3",
   "version": "3.10.6 (main, Nov 14 2022, 16:10:14) [GCC 11.3.0]"
  },
  "orig_nbformat": 4,
  "vscode": {
   "interpreter": {
    "hash": "46c20d25a7ed9ee585a114f447e4d3815f6614af8f779394ab7aa1358c68beb1"
   }
  }
 },
 "nbformat": 4,
 "nbformat_minor": 2
}

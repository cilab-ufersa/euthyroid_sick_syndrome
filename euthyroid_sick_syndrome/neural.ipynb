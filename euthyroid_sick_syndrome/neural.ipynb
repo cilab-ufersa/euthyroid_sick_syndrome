{
 "cells": [
  {
   "cell_type": "code",
   "execution_count": 27,
   "metadata": {},
   "outputs": [],
   "source": [
    "import sys\n",
    "sys.path.append('euthyroid_sick_syndrome')\n",
    "import tensorflow as tf\n",
    "import numpy as np\n",
    "import pandas as pd\n",
    "import matplotlib.pyplot as plt\n",
    "from sklearn.preprocessing import StandardScaler\n",
    "from utils import *"
   ]
  },
  {
   "cell_type": "code",
   "execution_count": 28,
   "metadata": {},
   "outputs": [],
   "source": [
    "#carregando o dataset e utilizando as 8 features retornadas pelo RFE\n",
    "\n",
    "dataset = pd.read_csv('../euthyroid_sick_syndrome/datasets/euthyroid/euthyroid_final_features.csv')"
   ]
  },
  {
   "cell_type": "code",
   "execution_count": 29,
   "metadata": {},
   "outputs": [],
   "source": [
    "output_label_dataset = dataset['classification']  #1 = sick, 0 = normal\n",
    "dataset = dataset[['age', 'on_thyroxine', 'query_hypothyroid', 'TSH', 'T3', 'TT4', 'T4U','FTI']]"
   ]
  },
  {
   "cell_type": "code",
   "execution_count": 30,
   "metadata": {},
   "outputs": [
    {
     "data": {
      "text/html": [
       "<div>\n",
       "<style scoped>\n",
       "    .dataframe tbody tr th:only-of-type {\n",
       "        vertical-align: middle;\n",
       "    }\n",
       "\n",
       "    .dataframe tbody tr th {\n",
       "        vertical-align: top;\n",
       "    }\n",
       "\n",
       "    .dataframe thead th {\n",
       "        text-align: right;\n",
       "    }\n",
       "</style>\n",
       "<table border=\"1\" class=\"dataframe\">\n",
       "  <thead>\n",
       "    <tr style=\"text-align: right;\">\n",
       "      <th></th>\n",
       "      <th>age</th>\n",
       "      <th>on_thyroxine</th>\n",
       "      <th>query_hypothyroid</th>\n",
       "      <th>TSH</th>\n",
       "      <th>T3</th>\n",
       "      <th>TT4</th>\n",
       "      <th>T4U</th>\n",
       "      <th>FTI</th>\n",
       "    </tr>\n",
       "  </thead>\n",
       "  <tbody>\n",
       "    <tr>\n",
       "      <th>0</th>\n",
       "      <td>45</td>\n",
       "      <td>0</td>\n",
       "      <td>0</td>\n",
       "      <td>1.90</td>\n",
       "      <td>1.0</td>\n",
       "      <td>82.0</td>\n",
       "      <td>0.73</td>\n",
       "      <td>112.0</td>\n",
       "    </tr>\n",
       "    <tr>\n",
       "      <th>1</th>\n",
       "      <td>64</td>\n",
       "      <td>0</td>\n",
       "      <td>0</td>\n",
       "      <td>0.09</td>\n",
       "      <td>1.0</td>\n",
       "      <td>101.0</td>\n",
       "      <td>0.82</td>\n",
       "      <td>123.0</td>\n",
       "    </tr>\n",
       "    <tr>\n",
       "      <th>2</th>\n",
       "      <td>56</td>\n",
       "      <td>0</td>\n",
       "      <td>0</td>\n",
       "      <td>0.00</td>\n",
       "      <td>0.8</td>\n",
       "      <td>76.0</td>\n",
       "      <td>0.77</td>\n",
       "      <td>99.0</td>\n",
       "    </tr>\n",
       "    <tr>\n",
       "      <th>3</th>\n",
       "      <td>78</td>\n",
       "      <td>1</td>\n",
       "      <td>1</td>\n",
       "      <td>2.60</td>\n",
       "      <td>0.3</td>\n",
       "      <td>87.0</td>\n",
       "      <td>0.95</td>\n",
       "      <td>91.0</td>\n",
       "    </tr>\n",
       "    <tr>\n",
       "      <th>4</th>\n",
       "      <td>80</td>\n",
       "      <td>0</td>\n",
       "      <td>0</td>\n",
       "      <td>1.40</td>\n",
       "      <td>0.8</td>\n",
       "      <td>105.0</td>\n",
       "      <td>0.88</td>\n",
       "      <td>120.0</td>\n",
       "    </tr>\n",
       "  </tbody>\n",
       "</table>\n",
       "</div>"
      ],
      "text/plain": [
       "   age  on_thyroxine  query_hypothyroid   TSH   T3    TT4   T4U    FTI\n",
       "0   45             0                  0  1.90  1.0   82.0  0.73  112.0\n",
       "1   64             0                  0  0.09  1.0  101.0  0.82  123.0\n",
       "2   56             0                  0  0.00  0.8   76.0  0.77   99.0\n",
       "3   78             1                  1  2.60  0.3   87.0  0.95   91.0\n",
       "4   80             0                  0  1.40  0.8  105.0  0.88  120.0"
      ]
     },
     "execution_count": 30,
     "metadata": {},
     "output_type": "execute_result"
    }
   ],
   "source": [
    "dataset.head()"
   ]
  },
  {
   "cell_type": "code",
   "execution_count": 31,
   "metadata": {},
   "outputs": [],
   "source": [
    "#fazendo o balanceamento dos dados\n",
    "dataset_res, ouput_label = balance_dataset_smote(dataset, output_label_dataset, random_state=42, k_neighbors=5)\n"
   ]
  },
  {
   "cell_type": "code",
   "execution_count": 32,
   "metadata": {},
   "outputs": [],
   "source": [
    " # Dividindo os dados em treino e teste em 80% e 20% respectivamente\n",
    "# X_train, X_test, y_train, y_test = train_test_split(X, y, test_size=0.2, random_state=3, stratify=y)\n",
    "input_train, input_test, output_train, output_test = slipt_and_standardize_dataset(dataset=dataset_res, output_label=ouput_label, test_size=0.1)"
   ]
  },
  {
   "cell_type": "code",
   "execution_count": 33,
   "metadata": {},
   "outputs": [],
   "source": [
    "input_train = np.asarray( input_train)\n",
    "input_test = np.asarray( input_test)\n",
    "output_train =np.asarray( output_train)\n",
    "output_test =np.asarray( output_test)"
   ]
  },
  {
   "cell_type": "code",
   "execution_count": 34,
   "metadata": {},
   "outputs": [
    {
     "name": "stdout",
     "output_type": "stream",
     "text": [
      "Model: \"sequential_2\"\n",
      "_________________________________________________________________\n",
      " Layer (type)                Output Shape              Param #   \n",
      "=================================================================\n",
      " dense_4 (Dense)             (None, 64)                576       \n",
      "                                                                 \n",
      " dense_5 (Dense)             (None, 1)                 65        \n",
      "                                                                 \n",
      "=================================================================\n",
      "Total params: 641\n",
      "Trainable params: 641\n",
      "Non-trainable params: 0\n",
      "_________________________________________________________________\n"
     ]
    }
   ],
   "source": [
    "\n",
    "# Modelo de rede perceptron multicamadas com uma camada oculta de 64 neurônios\n",
    "# e camada de saída com 1 neurônios (1 classes)\n",
    "model = tf.keras.models.Sequential()\n",
    "model.add(tf.keras.layers.Dense(64, input_dim=8, activation='sigmoid'))\n",
    "model.add(tf.keras.layers.Dense(1, activation='sigmoid'))\n",
    "model.summary() #visualizando o modelo\n",
    "\n"
   ]
  },
  {
   "cell_type": "code",
   "execution_count": 35,
   "metadata": {},
   "outputs": [
    {
     "name": "stdout",
     "output_type": "stream",
     "text": [
      "Epoch 1/50\n",
      "130/130 [==============================] - 0s 1ms/step - loss: 0.5471 - mse: 0.1811 - val_loss: 0.4533 - val_mse: 0.1410\n",
      "Epoch 2/50\n",
      "130/130 [==============================] - 0s 664us/step - loss: 0.4102 - mse: 0.1252 - val_loss: 0.3697 - val_mse: 0.1116\n",
      "Epoch 3/50\n",
      "130/130 [==============================] - 0s 671us/step - loss: 0.3523 - mse: 0.1051 - val_loss: 0.3268 - val_mse: 0.0970\n",
      "Epoch 4/50\n",
      "130/130 [==============================] - 0s 680us/step - loss: 0.3165 - mse: 0.0926 - val_loss: 0.2979 - val_mse: 0.0870\n",
      "Epoch 5/50\n",
      "130/130 [==============================] - 0s 674us/step - loss: 0.2897 - mse: 0.0833 - val_loss: 0.2787 - val_mse: 0.0800\n",
      "Epoch 6/50\n",
      "130/130 [==============================] - 0s 692us/step - loss: 0.2702 - mse: 0.0768 - val_loss: 0.2678 - val_mse: 0.0753\n",
      "Epoch 7/50\n",
      "130/130 [==============================] - 0s 728us/step - loss: 0.2571 - mse: 0.0725 - val_loss: 0.2587 - val_mse: 0.0726\n",
      "Epoch 8/50\n",
      "130/130 [==============================] - 0s 738us/step - loss: 0.2471 - mse: 0.0694 - val_loss: 0.2534 - val_mse: 0.0709\n",
      "Epoch 9/50\n",
      "130/130 [==============================] - 0s 726us/step - loss: 0.2399 - mse: 0.0677 - val_loss: 0.2507 - val_mse: 0.0694\n",
      "Epoch 10/50\n",
      "130/130 [==============================] - 0s 741us/step - loss: 0.2351 - mse: 0.0658 - val_loss: 0.2482 - val_mse: 0.0700\n",
      "Epoch 11/50\n",
      "130/130 [==============================] - 0s 683us/step - loss: 0.2308 - mse: 0.0651 - val_loss: 0.2452 - val_mse: 0.0680\n",
      "Epoch 12/50\n",
      "130/130 [==============================] - 0s 668us/step - loss: 0.2269 - mse: 0.0639 - val_loss: 0.2425 - val_mse: 0.0672\n",
      "Epoch 13/50\n",
      "130/130 [==============================] - 0s 676us/step - loss: 0.2238 - mse: 0.0636 - val_loss: 0.2399 - val_mse: 0.0661\n",
      "Epoch 14/50\n",
      "130/130 [==============================] - 0s 825us/step - loss: 0.2200 - mse: 0.0626 - val_loss: 0.2362 - val_mse: 0.0655\n",
      "Epoch 15/50\n",
      "130/130 [==============================] - 0s 787us/step - loss: 0.2160 - mse: 0.0617 - val_loss: 0.2338 - val_mse: 0.0643\n",
      "Epoch 16/50\n",
      "130/130 [==============================] - 0s 717us/step - loss: 0.2124 - mse: 0.0600 - val_loss: 0.2298 - val_mse: 0.0646\n",
      "Epoch 17/50\n",
      "130/130 [==============================] - 0s 691us/step - loss: 0.2089 - mse: 0.0601 - val_loss: 0.2259 - val_mse: 0.0627\n",
      "Epoch 18/50\n",
      "130/130 [==============================] - 0s 700us/step - loss: 0.2048 - mse: 0.0584 - val_loss: 0.2220 - val_mse: 0.0622\n",
      "Epoch 19/50\n",
      "130/130 [==============================] - 0s 797us/step - loss: 0.2012 - mse: 0.0579 - val_loss: 0.2176 - val_mse: 0.0616\n",
      "Epoch 20/50\n",
      "130/130 [==============================] - 0s 784us/step - loss: 0.1971 - mse: 0.0570 - val_loss: 0.2132 - val_mse: 0.0605\n",
      "Epoch 21/50\n",
      "130/130 [==============================] - 0s 747us/step - loss: 0.1931 - mse: 0.0556 - val_loss: 0.2095 - val_mse: 0.0595\n",
      "Epoch 22/50\n",
      "130/130 [==============================] - 0s 749us/step - loss: 0.1892 - mse: 0.0546 - val_loss: 0.2058 - val_mse: 0.0586\n",
      "Epoch 23/50\n",
      "130/130 [==============================] - 0s 716us/step - loss: 0.1864 - mse: 0.0538 - val_loss: 0.2018 - val_mse: 0.0568\n",
      "Epoch 24/50\n",
      "130/130 [==============================] - 0s 701us/step - loss: 0.1818 - mse: 0.0524 - val_loss: 0.1988 - val_mse: 0.0556\n",
      "Epoch 25/50\n",
      "130/130 [==============================] - 0s 744us/step - loss: 0.1787 - mse: 0.0514 - val_loss: 0.1947 - val_mse: 0.0550\n",
      "Epoch 26/50\n",
      "130/130 [==============================] - 0s 898us/step - loss: 0.1757 - mse: 0.0504 - val_loss: 0.1915 - val_mse: 0.0546\n",
      "Epoch 27/50\n",
      "130/130 [==============================] - 0s 745us/step - loss: 0.1725 - mse: 0.0496 - val_loss: 0.1882 - val_mse: 0.0534\n",
      "Epoch 28/50\n",
      "130/130 [==============================] - 0s 705us/step - loss: 0.1694 - mse: 0.0487 - val_loss: 0.1852 - val_mse: 0.0520\n",
      "Epoch 29/50\n",
      "130/130 [==============================] - 0s 706us/step - loss: 0.1665 - mse: 0.0475 - val_loss: 0.1827 - val_mse: 0.0519\n",
      "Epoch 30/50\n",
      "130/130 [==============================] - 0s 706us/step - loss: 0.1641 - mse: 0.0466 - val_loss: 0.1801 - val_mse: 0.0505\n",
      "Epoch 31/50\n",
      "130/130 [==============================] - 0s 687us/step - loss: 0.1618 - mse: 0.0460 - val_loss: 0.1780 - val_mse: 0.0497\n",
      "Epoch 32/50\n",
      "130/130 [==============================] - 0s 694us/step - loss: 0.1588 - mse: 0.0448 - val_loss: 0.1758 - val_mse: 0.0491\n",
      "Epoch 33/50\n",
      "130/130 [==============================] - 0s 691us/step - loss: 0.1567 - mse: 0.0442 - val_loss: 0.1739 - val_mse: 0.0486\n",
      "Epoch 34/50\n",
      "130/130 [==============================] - 0s 708us/step - loss: 0.1544 - mse: 0.0435 - val_loss: 0.1727 - val_mse: 0.0477\n",
      "Epoch 35/50\n",
      "130/130 [==============================] - 0s 681us/step - loss: 0.1524 - mse: 0.0426 - val_loss: 0.1709 - val_mse: 0.0474\n",
      "Epoch 36/50\n",
      "130/130 [==============================] - 0s 685us/step - loss: 0.1506 - mse: 0.0420 - val_loss: 0.1696 - val_mse: 0.0473\n",
      "Epoch 37/50\n",
      "130/130 [==============================] - 0s 697us/step - loss: 0.1490 - mse: 0.0416 - val_loss: 0.1683 - val_mse: 0.0468\n",
      "Epoch 38/50\n",
      "130/130 [==============================] - 0s 684us/step - loss: 0.1477 - mse: 0.0412 - val_loss: 0.1667 - val_mse: 0.0461\n",
      "Epoch 39/50\n",
      "130/130 [==============================] - 0s 711us/step - loss: 0.1459 - mse: 0.0403 - val_loss: 0.1659 - val_mse: 0.0460\n",
      "Epoch 40/50\n",
      "130/130 [==============================] - 0s 705us/step - loss: 0.1441 - mse: 0.0402 - val_loss: 0.1648 - val_mse: 0.0449\n",
      "Epoch 41/50\n",
      "130/130 [==============================] - 0s 722us/step - loss: 0.1428 - mse: 0.0393 - val_loss: 0.1634 - val_mse: 0.0448\n",
      "Epoch 42/50\n",
      "130/130 [==============================] - 0s 692us/step - loss: 0.1416 - mse: 0.0389 - val_loss: 0.1627 - val_mse: 0.0445\n",
      "Epoch 43/50\n",
      "130/130 [==============================] - 0s 702us/step - loss: 0.1401 - mse: 0.0383 - val_loss: 0.1626 - val_mse: 0.0448\n",
      "Epoch 44/50\n",
      "130/130 [==============================] - 0s 722us/step - loss: 0.1390 - mse: 0.0382 - val_loss: 0.1616 - val_mse: 0.0437\n",
      "Epoch 45/50\n",
      "130/130 [==============================] - 0s 719us/step - loss: 0.1380 - mse: 0.0379 - val_loss: 0.1606 - val_mse: 0.0438\n",
      "Epoch 46/50\n",
      "130/130 [==============================] - 0s 724us/step - loss: 0.1368 - mse: 0.0373 - val_loss: 0.1597 - val_mse: 0.0435\n",
      "Epoch 47/50\n",
      "130/130 [==============================] - 0s 695us/step - loss: 0.1361 - mse: 0.0371 - val_loss: 0.1588 - val_mse: 0.0431\n",
      "Epoch 48/50\n",
      "130/130 [==============================] - 0s 701us/step - loss: 0.1354 - mse: 0.0370 - val_loss: 0.1581 - val_mse: 0.0424\n",
      "Epoch 49/50\n",
      "130/130 [==============================] - 0s 724us/step - loss: 0.1341 - mse: 0.0363 - val_loss: 0.1581 - val_mse: 0.0429\n",
      "Epoch 50/50\n",
      "130/130 [==============================] - 0s 703us/step - loss: 0.1334 - mse: 0.0364 - val_loss: 0.1570 - val_mse: 0.0420\n"
     ]
    }
   ],
   "source": [
    "\n",
    "\n",
    "# Compile model\n",
    "# Otimizador Adam com taxa de aprendizado de 0.01\n",
    "opt = tf.keras.optimizers.Adam()\n",
    "# Função de custo categorical_crossentropy (para problemas de classificação com mais de duas classes)\n",
    "# Métrica de avaliação MSE (Mean Squared Error)\n",
    "model.compile(loss='binary_crossentropy', optimizer=opt, metrics=['mse'])\n",
    "\n",
    "# Train model\n",
    "history = model.fit(input_train, output_train, validation_split=0.2, epochs=50)\n"
   ]
  },
  {
   "cell_type": "code",
   "execution_count": 36,
   "metadata": {},
   "outputs": [
    {
     "data": {
      "image/png": "[encoded data removed]",
      "text/plain": [
       "<Figure size 640x480 with 1 Axes>"
      ]
     },
     "metadata": {},
     "output_type": "display_data"
    }
   ],
   "source": [
    "\n",
    "# Plot training & validation accuracy values\n",
    "plt.plot(history.history['loss'])\n",
    "plt.plot(history.history['val_loss'])\n",
    "plt.title('Função Perda')\n",
    "plt.ylabel('MSE')\n",
    "plt.xlabel('Epocas')\n",
    "plt.legend(['Treino', 'Teste'], loc='upper left')\n",
    "plt.show()\n",
    "\n"
   ]
  },
  {
   "cell_type": "code",
   "execution_count": 53,
   "metadata": {},
   "outputs": [
    {
     "name": "stdout",
     "output_type": "stream",
     "text": [
      "18/18 [==============================] - 0s 417us/step\n",
      "1/1 [==============================] - 0s 16ms/step\n",
      "A classe é: 1\n",
      "\n",
      "A acurácia é de:  0.9529616724738676\n",
      "A precisão é de:  0.9430604982206405\n",
      "A pontuação de recall é de:  0.9601449275362319\n",
      "A pontuação de F1 é de:  0.9515260323159784\n"
     ]
    }
   ],
   "source": [
    "\n",
    "#padronizando os dados de teste\n",
    "sc = StandardScaler()\n",
    "sc.fit(input_train)\n",
    "\n",
    "\n",
    "# esse teste é de um paciente doente (1)\n",
    "teste = [[45, 0, 0, 1.9, 1.0,\t82.0,\t0.73,\t112.0]]\n",
    "teste = sc.transform(teste)\n",
    "# Predict\n",
    "\"\"\"\n",
    "    1 - Sick\n",
    "    0 - Normal\n",
    "\"\"\"\n",
    "output_model = model.predict(input_test)\n",
    "y_predd = model.predict(teste)\n",
    "y_predd = np.argmax(y_predd, axis=1)+1 \n",
    "print(\"A classe é:\",  y_predd[-1])\n",
    "accuracy(output_test, output_model.round())\n",
    "precision(output_test, output_model.round())\n",
    "recall(output_test, output_model.round())\n",
    "f1(output_test, output_model.round())"
   ]
  }
 ],
 "metadata": {
  "kernelspec": {
   "display_name": "cilab",
   "language": "python",
   "name": "python3"
  },
  "language_info": {
   "codemirror_mode": {
    "name": "ipython",
    "version": 3
   },
   "file_extension": ".py",
   "mimetype": "text/x-python",
   "name": "python",
   "nbconvert_exporter": "python",
   "pygments_lexer": "ipython3",
   "version": "3.10.6"
  },
  "orig_nbformat": 4
 },
 "nbformat": 4,
 "nbformat_minor": 2
}

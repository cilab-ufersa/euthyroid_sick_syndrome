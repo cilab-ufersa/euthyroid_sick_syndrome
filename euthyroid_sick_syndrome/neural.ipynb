{
 "cells": [
  {
   "cell_type": "code",
   "execution_count": 159,
   "metadata": {},
   "outputs": [],
   "source": [
    "import sys\n",
    "sys.path.append('euthyroid_sick_syndrome')\n",
    "import tensorflow as tf\n",
    "import numpy as np\n",
    "import pandas as pd\n",
    "import matplotlib.pyplot as plt\n",
    "from sklearn.preprocessing import StandardScaler\n",
    "from utils import *\n",
    "import os"
   ]
  },
  {
   "cell_type": "code",
   "execution_count": 160,
   "metadata": {},
   "outputs": [],
   "source": [
    "#carregando o dataset e utilizando as 8 features retornadas pelo RFE\n",
    "\n",
    "dataset = pd.read_csv('../euthyroid_sick_syndrome/datasets/euthyroid/euthyroid_final_features.csv')"
   ]
  },
  {
   "cell_type": "code",
   "execution_count": 161,
   "metadata": {},
   "outputs": [],
   "source": [
    "output_label_dataset = dataset['classification']  #1 = sick, 0 = normal\n",
    "dataset = dataset[['age', 'on_thyroxine', 'query_hypothyroid', 'TSH', 'T3', 'TT4', 'T4U','FTI']]\n",
    "\n",
    "#dataset = dataset[ ['age', 'sex', 'on_thyroxine', 'query_hypothyroid', 'query_hyperthyroid','TSH', 'T3', 'TT4', 'T4U', 'FTI']]\n",
    "\n",
    "#dataset = dataset[ ['age', 'sex', 'on_thyroxine', 'query_on_thyroxine', 'query_hypothyroid', 'query_hyperthyroid', 'goitre', 'TSH', 'T3', 'TT4', 'T4U', 'FTI']]\n",
    "\n",
    "#dataset = dataset[['age', 'on_thyroxine', 'on_antithyroid_medication', 'tumor', 'goitre','T3', 'TT4', 'T4U']]\n",
    "\n",
    "#dataset = dataset[['age', 'sex', 'query_on_thyroxine', 'on_antithyroid_medication', 'sick','tumor', 'T3', 'T4U']]"
   ]
  },
  {
   "cell_type": "code",
   "execution_count": 162,
   "metadata": {},
   "outputs": [
    {
     "data": {
      "text/html": [
       "<div>\n",
       "<style scoped>\n",
       "    .dataframe tbody tr th:only-of-type {\n",
       "        vertical-align: middle;\n",
       "    }\n",
       "\n",
       "    .dataframe tbody tr th {\n",
       "        vertical-align: top;\n",
       "    }\n",
       "\n",
       "    .dataframe thead th {\n",
       "        text-align: right;\n",
       "    }\n",
       "</style>\n",
       "<table border=\"1\" class=\"dataframe\">\n",
       "  <thead>\n",
       "    <tr style=\"text-align: right;\">\n",
       "      <th></th>\n",
       "      <th>age</th>\n",
       "      <th>on_thyroxine</th>\n",
       "      <th>query_hypothyroid</th>\n",
       "      <th>TSH</th>\n",
       "      <th>T3</th>\n",
       "      <th>TT4</th>\n",
       "      <th>T4U</th>\n",
       "      <th>FTI</th>\n",
       "    </tr>\n",
       "  </thead>\n",
       "  <tbody>\n",
       "    <tr>\n",
       "      <th>0</th>\n",
       "      <td>45</td>\n",
       "      <td>0</td>\n",
       "      <td>0</td>\n",
       "      <td>1.90</td>\n",
       "      <td>1.0</td>\n",
       "      <td>82.0</td>\n",
       "      <td>0.73</td>\n",
       "      <td>112.0</td>\n",
       "    </tr>\n",
       "    <tr>\n",
       "      <th>1</th>\n",
       "      <td>64</td>\n",
       "      <td>0</td>\n",
       "      <td>0</td>\n",
       "      <td>0.09</td>\n",
       "      <td>1.0</td>\n",
       "      <td>101.0</td>\n",
       "      <td>0.82</td>\n",
       "      <td>123.0</td>\n",
       "    </tr>\n",
       "    <tr>\n",
       "      <th>2</th>\n",
       "      <td>56</td>\n",
       "      <td>0</td>\n",
       "      <td>0</td>\n",
       "      <td>0.00</td>\n",
       "      <td>0.8</td>\n",
       "      <td>76.0</td>\n",
       "      <td>0.77</td>\n",
       "      <td>99.0</td>\n",
       "    </tr>\n",
       "    <tr>\n",
       "      <th>3</th>\n",
       "      <td>78</td>\n",
       "      <td>1</td>\n",
       "      <td>1</td>\n",
       "      <td>2.60</td>\n",
       "      <td>0.3</td>\n",
       "      <td>87.0</td>\n",
       "      <td>0.95</td>\n",
       "      <td>91.0</td>\n",
       "    </tr>\n",
       "    <tr>\n",
       "      <th>4</th>\n",
       "      <td>80</td>\n",
       "      <td>0</td>\n",
       "      <td>0</td>\n",
       "      <td>1.40</td>\n",
       "      <td>0.8</td>\n",
       "      <td>105.0</td>\n",
       "      <td>0.88</td>\n",
       "      <td>120.0</td>\n",
       "    </tr>\n",
       "  </tbody>\n",
       "</table>\n",
       "</div>"
      ],
      "text/plain": [
       "   age  on_thyroxine  query_hypothyroid   TSH   T3    TT4   T4U    FTI\n",
       "0   45             0                  0  1.90  1.0   82.0  0.73  112.0\n",
       "1   64             0                  0  0.09  1.0  101.0  0.82  123.0\n",
       "2   56             0                  0  0.00  0.8   76.0  0.77   99.0\n",
       "3   78             1                  1  2.60  0.3   87.0  0.95   91.0\n",
       "4   80             0                  0  1.40  0.8  105.0  0.88  120.0"
      ]
     },
     "execution_count": 162,
     "metadata": {},
     "output_type": "execute_result"
    }
   ],
   "source": [
    "dataset.head()"
   ]
  },
  {
   "cell_type": "code",
   "execution_count": 163,
   "metadata": {},
   "outputs": [],
   "source": [
    "#fazendo o balanceamento dos dados\n",
    "dataset_res, ouput_label = balance_dataset_smote(dataset, output_label_dataset, random_state=42, k_neighbors=5)\n"
   ]
  },
  {
   "cell_type": "code",
   "execution_count": 164,
   "metadata": {},
   "outputs": [],
   "source": [
    " # Dividindo os dados em treino e teste em 80% e 20% respectivamente\n",
    "input_train, input_test, output_train, output_test = slipt_and_standardize_dataset(dataset=dataset_res, output_label=ouput_label, test_size=0.1)"
   ]
  },
  {
   "cell_type": "code",
   "execution_count": 165,
   "metadata": {},
   "outputs": [],
   "source": [
    "input_train = np.asarray( input_train)\n",
    "input_test = np.asarray( input_test)\n",
    "output_train =np.asarray( output_train)\n",
    "output_test =np.asarray( output_test)"
   ]
  },
  {
   "cell_type": "code",
   "execution_count": 166,
   "metadata": {},
   "outputs": [
    {
     "name": "stdout",
     "output_type": "stream",
     "text": [
      "Model: \"sequential_13\"\n",
      "_________________________________________________________________\n",
      " Layer (type)                Output Shape              Param #   \n",
      "=================================================================\n",
      " dense_39 (Dense)            (None, 64)                576       \n",
      "                                                                 \n",
      " dense_40 (Dense)            (None, 32)                2080      \n",
      "                                                                 \n",
      " dense_41 (Dense)            (None, 1)                 33        \n",
      "                                                                 \n",
      "=================================================================\n",
      "Total params: 2,689\n",
      "Trainable params: 2,689\n",
      "Non-trainable params: 0\n",
      "_________________________________________________________________\n"
     ]
    }
   ],
   "source": [
    "\n",
    "# Modelo de rede perceptron multicamadas com uma camada oculta de 64 neurônios\n",
    "# e camada de saída com 1 neurônios (1 classes)\n",
    "model = tf.keras.models.Sequential()\n",
    "model.add(tf.keras.layers.Dense(64, input_dim=dataset.shape[1], activation='relu'))\n",
    "model.add(tf.keras.layers.Dense(32, activation='relu'))\n",
    "model.add(tf.keras.layers.Dense(1, activation='sigmoid'))\n",
    "model.summary() #visualizando o modelo\n",
    "\n"
   ]
  },
  {
   "cell_type": "code",
   "execution_count": 167,
   "metadata": {},
   "outputs": [
    {
     "name": "stdout",
     "output_type": "stream",
     "text": [
      "Epoch 1/200\n",
      "65/65 [==============================] - 1s 3ms/step - loss: 0.4977 - accuracy: 0.8144 - val_loss: 0.3307 - val_accuracy: 0.8936\n",
      "Epoch 2/200\n",
      "65/65 [==============================] - 0s 2ms/step - loss: 0.2638 - accuracy: 0.9037 - val_loss: 0.2341 - val_accuracy: 0.9130\n",
      "Epoch 3/200\n",
      "65/65 [==============================] - 0s 2ms/step - loss: 0.2041 - accuracy: 0.9177 - val_loss: 0.2117 - val_accuracy: 0.9246\n",
      "Epoch 4/200\n",
      "65/65 [==============================] - 0s 2ms/step - loss: 0.1807 - accuracy: 0.9267 - val_loss: 0.1988 - val_accuracy: 0.9284\n",
      "Epoch 5/200\n",
      "65/65 [==============================] - 0s 2ms/step - loss: 0.1665 - accuracy: 0.9368 - val_loss: 0.1890 - val_accuracy: 0.9342\n",
      "Epoch 6/200\n",
      "65/65 [==============================] - 0s 2ms/step - loss: 0.1570 - accuracy: 0.9402 - val_loss: 0.1809 - val_accuracy: 0.9371\n",
      "Epoch 7/200\n",
      "65/65 [==============================] - 0s 2ms/step - loss: 0.1494 - accuracy: 0.9470 - val_loss: 0.1790 - val_accuracy: 0.9313\n",
      "Epoch 8/200\n",
      "65/65 [==============================] - 0s 2ms/step - loss: 0.1435 - accuracy: 0.9472 - val_loss: 0.1697 - val_accuracy: 0.9429\n",
      "Epoch 9/200\n",
      "65/65 [==============================] - 0s 2ms/step - loss: 0.1390 - accuracy: 0.9489 - val_loss: 0.1670 - val_accuracy: 0.9420\n",
      "Epoch 10/200\n",
      "65/65 [==============================] - 0s 3ms/step - loss: 0.1350 - accuracy: 0.9501 - val_loss: 0.1614 - val_accuracy: 0.9449\n",
      "Epoch 11/200\n",
      "65/65 [==============================] - 0s 2ms/step - loss: 0.1310 - accuracy: 0.9562 - val_loss: 0.1618 - val_accuracy: 0.9420\n",
      "Epoch 12/200\n",
      "65/65 [==============================] - 0s 2ms/step - loss: 0.1253 - accuracy: 0.9555 - val_loss: 0.1561 - val_accuracy: 0.9449\n",
      "Epoch 13/200\n",
      "65/65 [==============================] - 0s 2ms/step - loss: 0.1218 - accuracy: 0.9552 - val_loss: 0.1549 - val_accuracy: 0.9487\n",
      "Epoch 14/200\n",
      "65/65 [==============================] - 0s 2ms/step - loss: 0.1194 - accuracy: 0.9574 - val_loss: 0.1496 - val_accuracy: 0.9497\n",
      "Epoch 15/200\n",
      "65/65 [==============================] - 0s 3ms/step - loss: 0.1168 - accuracy: 0.9591 - val_loss: 0.1475 - val_accuracy: 0.9497\n",
      "Epoch 16/200\n",
      "65/65 [==============================] - 0s 4ms/step - loss: 0.1151 - accuracy: 0.9591 - val_loss: 0.1469 - val_accuracy: 0.9516\n",
      "Epoch 17/200\n",
      "65/65 [==============================] - 0s 4ms/step - loss: 0.1110 - accuracy: 0.9601 - val_loss: 0.1434 - val_accuracy: 0.9507\n",
      "Epoch 18/200\n",
      "65/65 [==============================] - 0s 5ms/step - loss: 0.1096 - accuracy: 0.9620 - val_loss: 0.1408 - val_accuracy: 0.9516\n",
      "Epoch 19/200\n",
      "65/65 [==============================] - 0s 4ms/step - loss: 0.1055 - accuracy: 0.9635 - val_loss: 0.1371 - val_accuracy: 0.9584\n",
      "Epoch 20/200\n",
      "65/65 [==============================] - 0s 3ms/step - loss: 0.1025 - accuracy: 0.9668 - val_loss: 0.1374 - val_accuracy: 0.9545\n",
      "Epoch 21/200\n",
      "65/65 [==============================] - 0s 4ms/step - loss: 0.1014 - accuracy: 0.9666 - val_loss: 0.1344 - val_accuracy: 0.9574\n",
      "Epoch 22/200\n",
      "65/65 [==============================] - 0s 4ms/step - loss: 0.0987 - accuracy: 0.9676 - val_loss: 0.1329 - val_accuracy: 0.9623\n",
      "Epoch 23/200\n",
      "65/65 [==============================] - 0s 3ms/step - loss: 0.0972 - accuracy: 0.9695 - val_loss: 0.1345 - val_accuracy: 0.9594\n",
      "Epoch 24/200\n",
      "65/65 [==============================] - 0s 3ms/step - loss: 0.0961 - accuracy: 0.9705 - val_loss: 0.1282 - val_accuracy: 0.9603\n",
      "Epoch 25/200\n",
      "65/65 [==============================] - 0s 3ms/step - loss: 0.0934 - accuracy: 0.9717 - val_loss: 0.1304 - val_accuracy: 0.9594\n",
      "Epoch 26/200\n",
      "65/65 [==============================] - 0s 3ms/step - loss: 0.0924 - accuracy: 0.9695 - val_loss: 0.1256 - val_accuracy: 0.9623\n",
      "Epoch 27/200\n",
      "65/65 [==============================] - 0s 5ms/step - loss: 0.0908 - accuracy: 0.9710 - val_loss: 0.1221 - val_accuracy: 0.9584\n",
      "Epoch 28/200\n",
      "65/65 [==============================] - 0s 4ms/step - loss: 0.0889 - accuracy: 0.9710 - val_loss: 0.1219 - val_accuracy: 0.9623\n",
      "Epoch 29/200\n",
      "65/65 [==============================] - 0s 4ms/step - loss: 0.0859 - accuracy: 0.9719 - val_loss: 0.1213 - val_accuracy: 0.9594\n",
      "Epoch 30/200\n",
      "65/65 [==============================] - 0s 4ms/step - loss: 0.0861 - accuracy: 0.9719 - val_loss: 0.1248 - val_accuracy: 0.9603\n",
      "Epoch 31/200\n",
      "65/65 [==============================] - 0s 4ms/step - loss: 0.0857 - accuracy: 0.9729 - val_loss: 0.1187 - val_accuracy: 0.9632\n",
      "Epoch 32/200\n",
      "65/65 [==============================] - 0s 4ms/step - loss: 0.0829 - accuracy: 0.9741 - val_loss: 0.1186 - val_accuracy: 0.9613\n",
      "Epoch 33/200\n",
      "65/65 [==============================] - 0s 5ms/step - loss: 0.0810 - accuracy: 0.9729 - val_loss: 0.1162 - val_accuracy: 0.9603\n",
      "Epoch 34/200\n",
      "65/65 [==============================] - 0s 3ms/step - loss: 0.0794 - accuracy: 0.9756 - val_loss: 0.1147 - val_accuracy: 0.9642\n",
      "Epoch 35/200\n",
      "65/65 [==============================] - 0s 7ms/step - loss: 0.0785 - accuracy: 0.9753 - val_loss: 0.1143 - val_accuracy: 0.9623\n",
      "Epoch 36/200\n",
      "65/65 [==============================] - 0s 3ms/step - loss: 0.0762 - accuracy: 0.9773 - val_loss: 0.1161 - val_accuracy: 0.9623\n",
      "Epoch 37/200\n",
      "65/65 [==============================] - 0s 4ms/step - loss: 0.0756 - accuracy: 0.9777 - val_loss: 0.1117 - val_accuracy: 0.9652\n",
      "Epoch 38/200\n",
      "65/65 [==============================] - 0s 3ms/step - loss: 0.0753 - accuracy: 0.9773 - val_loss: 0.1137 - val_accuracy: 0.9632\n",
      "Epoch 39/200\n",
      "65/65 [==============================] - 0s 2ms/step - loss: 0.0754 - accuracy: 0.9780 - val_loss: 0.1130 - val_accuracy: 0.9603\n",
      "Epoch 40/200\n",
      "65/65 [==============================] - 0s 2ms/step - loss: 0.0728 - accuracy: 0.9773 - val_loss: 0.1094 - val_accuracy: 0.9652\n",
      "Epoch 41/200\n",
      "65/65 [==============================] - 0s 2ms/step - loss: 0.0718 - accuracy: 0.9777 - val_loss: 0.1081 - val_accuracy: 0.9671\n",
      "Epoch 42/200\n",
      "65/65 [==============================] - 0s 2ms/step - loss: 0.0703 - accuracy: 0.9777 - val_loss: 0.1061 - val_accuracy: 0.9671\n",
      "Epoch 43/200\n",
      "65/65 [==============================] - 0s 2ms/step - loss: 0.0702 - accuracy: 0.9792 - val_loss: 0.1062 - val_accuracy: 0.9652\n",
      "Epoch 44/200\n",
      "65/65 [==============================] - 0s 2ms/step - loss: 0.0684 - accuracy: 0.9780 - val_loss: 0.1107 - val_accuracy: 0.9642\n",
      "Epoch 45/200\n",
      "65/65 [==============================] - 0s 2ms/step - loss: 0.0675 - accuracy: 0.9799 - val_loss: 0.1049 - val_accuracy: 0.9662\n",
      "Epoch 46/200\n",
      "65/65 [==============================] - 0s 2ms/step - loss: 0.0682 - accuracy: 0.9777 - val_loss: 0.1065 - val_accuracy: 0.9632\n",
      "Epoch 47/200\n",
      "65/65 [==============================] - 0s 2ms/step - loss: 0.0647 - accuracy: 0.9806 - val_loss: 0.1049 - val_accuracy: 0.9662\n",
      "Epoch 48/200\n",
      "65/65 [==============================] - 0s 2ms/step - loss: 0.0644 - accuracy: 0.9797 - val_loss: 0.1054 - val_accuracy: 0.9681\n",
      "Epoch 49/200\n",
      "65/65 [==============================] - 0s 3ms/step - loss: 0.0647 - accuracy: 0.9802 - val_loss: 0.1036 - val_accuracy: 0.9681\n",
      "Epoch 50/200\n",
      "65/65 [==============================] - 0s 2ms/step - loss: 0.0621 - accuracy: 0.9818 - val_loss: 0.1058 - val_accuracy: 0.9662\n",
      "Epoch 51/200\n",
      "65/65 [==============================] - 0s 2ms/step - loss: 0.0637 - accuracy: 0.9806 - val_loss: 0.1036 - val_accuracy: 0.9662\n",
      "Epoch 52/200\n",
      "65/65 [==============================] - 0s 2ms/step - loss: 0.0614 - accuracy: 0.9811 - val_loss: 0.1061 - val_accuracy: 0.9671\n",
      "Epoch 53/200\n",
      "65/65 [==============================] - 0s 2ms/step - loss: 0.0608 - accuracy: 0.9794 - val_loss: 0.1014 - val_accuracy: 0.9671\n",
      "Epoch 54/200\n",
      "65/65 [==============================] - 0s 2ms/step - loss: 0.0598 - accuracy: 0.9809 - val_loss: 0.1047 - val_accuracy: 0.9662\n",
      "Epoch 55/200\n",
      "65/65 [==============================] - 0s 2ms/step - loss: 0.0596 - accuracy: 0.9809 - val_loss: 0.1007 - val_accuracy: 0.9681\n",
      "Epoch 56/200\n",
      "65/65 [==============================] - 0s 2ms/step - loss: 0.0587 - accuracy: 0.9821 - val_loss: 0.1099 - val_accuracy: 0.9642\n",
      "Epoch 57/200\n",
      "65/65 [==============================] - 0s 2ms/step - loss: 0.0583 - accuracy: 0.9814 - val_loss: 0.0989 - val_accuracy: 0.9662\n",
      "Epoch 58/200\n",
      "65/65 [==============================] - 0s 2ms/step - loss: 0.0574 - accuracy: 0.9814 - val_loss: 0.1013 - val_accuracy: 0.9662\n",
      "Epoch 59/200\n",
      "65/65 [==============================] - 0s 2ms/step - loss: 0.0563 - accuracy: 0.9818 - val_loss: 0.1036 - val_accuracy: 0.9652\n",
      "Epoch 60/200\n",
      "65/65 [==============================] - 0s 2ms/step - loss: 0.0565 - accuracy: 0.9828 - val_loss: 0.0990 - val_accuracy: 0.9671\n",
      "Epoch 61/200\n",
      "65/65 [==============================] - 0s 2ms/step - loss: 0.0566 - accuracy: 0.9818 - val_loss: 0.1025 - val_accuracy: 0.9652\n",
      "Epoch 62/200\n",
      "65/65 [==============================] - 0s 2ms/step - loss: 0.0553 - accuracy: 0.9823 - val_loss: 0.0999 - val_accuracy: 0.9662\n",
      "Epoch 63/200\n",
      "65/65 [==============================] - 0s 2ms/step - loss: 0.0558 - accuracy: 0.9826 - val_loss: 0.0991 - val_accuracy: 0.9662\n",
      "Epoch 64/200\n",
      "65/65 [==============================] - 0s 2ms/step - loss: 0.0536 - accuracy: 0.9835 - val_loss: 0.0993 - val_accuracy: 0.9671\n",
      "Epoch 65/200\n",
      "65/65 [==============================] - 0s 2ms/step - loss: 0.0537 - accuracy: 0.9848 - val_loss: 0.1030 - val_accuracy: 0.9652\n",
      "Epoch 66/200\n",
      "65/65 [==============================] - 0s 2ms/step - loss: 0.0541 - accuracy: 0.9831 - val_loss: 0.1036 - val_accuracy: 0.9623\n",
      "Epoch 67/200\n",
      "65/65 [==============================] - 0s 2ms/step - loss: 0.0536 - accuracy: 0.9835 - val_loss: 0.0989 - val_accuracy: 0.9662\n",
      "Epoch 67: early stopping\n"
     ]
    }
   ],
   "source": [
    "# Compile model\n",
    "# Otimizador Adam com taxa de aprendizado de 0.01\n",
    "opt = tf.keras.optimizers.Adam()\n",
    "\n",
    "model.compile(loss='binary_crossentropy', optimizer=opt, metrics=['accuracy'])\n",
    "\n",
    "# callback para salvar o modelo com menor perda no conjunto de validação\n",
    "checkpoint_filepath = fname = os.path.sep.join([\"euthyroid_sick_syndrome\", \"checkpoints\"\n",
    "\t\"weights-{epoch:03d}-{val_loss:.4f}.hdf5\"])\n",
    "model_checkpoint_callback = tf.keras.callbacks.ModelCheckpoint( filepath=checkpoint_filepath, save_weights_only=True, monitor='val_loss', mode='min', save_best_only=True)\n",
    "# early_stopping_loss\n",
    "early_stopping_loss = tf.keras.callbacks.EarlyStopping(monitor='val_loss', mode='min', verbose=1, patience=10, min_delta=0.0001)\n",
    "\n",
    "# Treinamento do modelo \n",
    "history = model.fit(input_train, output_train, epochs=200, batch_size=64, validation_split=0.2, callbacks=[model_checkpoint_callback, early_stopping_loss])"
   ]
  },
  {
   "cell_type": "code",
   "execution_count": 168,
   "metadata": {},
   "outputs": [
    {
     "data": {
      "image/png": "[encoded data removed]",
      "text/plain": [
       "<Figure size 640x480 with 1 Axes>"
      ]
     },
     "metadata": {},
     "output_type": "display_data"
    }
   ],
   "source": [
    "# Plot training & validation accuracy values\n",
    "plt.plot(history.history['loss'])\n",
    "plt.plot(history.history['val_loss'])\n",
    "plt.title('Função Perda')\n",
    "plt.ylabel('MSE')\n",
    "plt.xlabel('Epocas')\n",
    "plt.legend(['Treino', 'Teste'], loc='upper left')\n",
    "plt.show()\n"
   ]
  },
  {
   "cell_type": "code",
   "execution_count": 169,
   "metadata": {},
   "outputs": [
    {
     "name": "stdout",
     "output_type": "stream",
     "text": [
      "18/18 [==============================] - 0s 896us/step\n"
     ]
    }
   ],
   "source": [
    "\n",
    "output_model = model.predict(input_test)\n"
   ]
  },
  {
   "cell_type": "code",
   "execution_count": 170,
   "metadata": {},
   "outputs": [
    {
     "name": "stdout",
     "output_type": "stream",
     "text": [
      "\n",
      "A acurácia é de:  0.9790940766550522\n",
      "A precisão é de:  0.9680851063829787\n",
      "A pontuação de recall é de:  0.9891304347826086\n",
      "A pontuação de F1 é de:  0.9784946236559139\n"
     ]
    }
   ],
   "source": [
    "accuracy(output_test, output_model.round())\n",
    "precision(output_test, output_model.round())\n",
    "recall(output_test, output_model.round())\n",
    "f1(output_test, output_model.round())"
   ]
  }
 ],
 "metadata": {
  "kernelspec": {
   "display_name": "cilab",
   "language": "python",
   "name": "python3"
  },
  "language_info": {
   "codemirror_mode": {
    "name": "ipython",
    "version": 3
   },
   "file_extension": ".py",
   "mimetype": "text/x-python",
   "name": "python",
   "nbconvert_exporter": "python",
   "pygments_lexer": "ipython3",
   "version": "3.10.4"
  },
  "orig_nbformat": 4
 },
 "nbformat": 4,
 "nbformat_minor": 2
}

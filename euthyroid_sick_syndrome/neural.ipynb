{
 "cells": [
  {
   "cell_type": "code",
   "execution_count": 1,
   "metadata": {},
   "outputs": [
    {
     "name": "stderr",
     "output_type": "stream",
     "text": [
      "2023-05-19 23:56:53.457946: I tensorflow/tsl/cuda/cudart_stub.cc:28] Could not find cuda drivers on your machine, GPU will not be used.\n",
      "2023-05-19 23:56:56.075340: I tensorflow/tsl/cuda/cudart_stub.cc:28] Could not find cuda drivers on your machine, GPU will not be used.\n",
      "2023-05-19 23:56:56.077127: I tensorflow/core/platform/cpu_feature_guard.cc:182] This TensorFlow binary is optimized to use available CPU instructions in performance-critical operations.\n",
      "To enable the following instructions: AVX2 AVX512F FMA, in other operations, rebuild TensorFlow with the appropriate compiler flags.\n",
      "2023-05-19 23:57:03.029724: W tensorflow/compiler/tf2tensorrt/utils/py_utils.cc:38] TF-TRT Warning: Could not find TensorRT\n"
     ]
    }
   ],
   "source": [
    "import sys\n",
    "sys.path.append('euthyroid_sick_syndrome')\n",
    "import tensorflow as tf\n",
    "import numpy as np\n",
    "import pandas as pd\n",
    "import matplotlib.pyplot as plt\n",
    "from sklearn.preprocessing import StandardScaler\n",
    "from utils import *"
   ]
  },
  {
   "cell_type": "code",
   "execution_count": 10,
   "metadata": {},
   "outputs": [],
   "source": [
    "#carregando o dataset e utilizando as 8 features retornadas pelo RFE\n",
    "\n",
    "dataset = pd.read_csv('../euthyroid_sick_syndrome/datasets/euthyroid/euthyroid_final_features.csv')"
   ]
  },
  {
   "cell_type": "code",
   "execution_count": 11,
   "metadata": {},
   "outputs": [],
   "source": [
    "output_label_dataset = dataset['classification']  #1 = sick, 0 = normal\n",
    "dataset = dataset[['age', 'on_thyroxine', 'query_hypothyroid', 'TSH', 'T3', 'TT4', 'T4U','FTI']]"
   ]
  },
  {
   "cell_type": "code",
   "execution_count": 12,
   "metadata": {},
   "outputs": [
    {
     "data": {
      "text/html": [
       "<div>\n",
       "<style scoped>\n",
       "    .dataframe tbody tr th:only-of-type {\n",
       "        vertical-align: middle;\n",
       "    }\n",
       "\n",
       "    .dataframe tbody tr th {\n",
       "        vertical-align: top;\n",
       "    }\n",
       "\n",
       "    .dataframe thead th {\n",
       "        text-align: right;\n",
       "    }\n",
       "</style>\n",
       "<table border=\"1\" class=\"dataframe\">\n",
       "  <thead>\n",
       "    <tr style=\"text-align: right;\">\n",
       "      <th></th>\n",
       "      <th>age</th>\n",
       "      <th>on_thyroxine</th>\n",
       "      <th>query_hypothyroid</th>\n",
       "      <th>TSH</th>\n",
       "      <th>T3</th>\n",
       "      <th>TT4</th>\n",
       "      <th>T4U</th>\n",
       "      <th>FTI</th>\n",
       "    </tr>\n",
       "  </thead>\n",
       "  <tbody>\n",
       "    <tr>\n",
       "      <th>0</th>\n",
       "      <td>45</td>\n",
       "      <td>0</td>\n",
       "      <td>0</td>\n",
       "      <td>1.90</td>\n",
       "      <td>1.0</td>\n",
       "      <td>82.0</td>\n",
       "      <td>0.73</td>\n",
       "      <td>112.0</td>\n",
       "    </tr>\n",
       "    <tr>\n",
       "      <th>1</th>\n",
       "      <td>64</td>\n",
       "      <td>0</td>\n",
       "      <td>0</td>\n",
       "      <td>0.09</td>\n",
       "      <td>1.0</td>\n",
       "      <td>101.0</td>\n",
       "      <td>0.82</td>\n",
       "      <td>123.0</td>\n",
       "    </tr>\n",
       "    <tr>\n",
       "      <th>2</th>\n",
       "      <td>56</td>\n",
       "      <td>0</td>\n",
       "      <td>0</td>\n",
       "      <td>0.00</td>\n",
       "      <td>0.8</td>\n",
       "      <td>76.0</td>\n",
       "      <td>0.77</td>\n",
       "      <td>99.0</td>\n",
       "    </tr>\n",
       "    <tr>\n",
       "      <th>3</th>\n",
       "      <td>78</td>\n",
       "      <td>1</td>\n",
       "      <td>1</td>\n",
       "      <td>2.60</td>\n",
       "      <td>0.3</td>\n",
       "      <td>87.0</td>\n",
       "      <td>0.95</td>\n",
       "      <td>91.0</td>\n",
       "    </tr>\n",
       "    <tr>\n",
       "      <th>4</th>\n",
       "      <td>80</td>\n",
       "      <td>0</td>\n",
       "      <td>0</td>\n",
       "      <td>1.40</td>\n",
       "      <td>0.8</td>\n",
       "      <td>105.0</td>\n",
       "      <td>0.88</td>\n",
       "      <td>120.0</td>\n",
       "    </tr>\n",
       "  </tbody>\n",
       "</table>\n",
       "</div>"
      ],
      "text/plain": [
       "   age  on_thyroxine  query_hypothyroid   TSH   T3    TT4   T4U    FTI\n",
       "0   45             0                  0  1.90  1.0   82.0  0.73  112.0\n",
       "1   64             0                  0  0.09  1.0  101.0  0.82  123.0\n",
       "2   56             0                  0  0.00  0.8   76.0  0.77   99.0\n",
       "3   78             1                  1  2.60  0.3   87.0  0.95   91.0\n",
       "4   80             0                  0  1.40  0.8  105.0  0.88  120.0"
      ]
     },
     "execution_count": 12,
     "metadata": {},
     "output_type": "execute_result"
    }
   ],
   "source": [
    "dataset.head()"
   ]
  },
  {
   "cell_type": "code",
   "execution_count": 13,
   "metadata": {},
   "outputs": [],
   "source": [
    "#fazendo o balanceamento dos dados\n",
    "dataset_res, ouput_label = balance_dataset_smote(dataset, output_label_dataset, random_state=42, k_neighbors=5)\n"
   ]
  },
  {
   "cell_type": "code",
   "execution_count": 28,
   "metadata": {},
   "outputs": [],
   "source": [
    " # Dividindo os dados em treino e teste em 80% e 20% respectivamente\n",
    "# X_train, X_test, y_train, y_test = train_test_split(X, y, test_size=0.2, random_state=3, stratify=y)\n",
    "input_train, input_test, output_train, output_test = slipt_and_standardize_dataset(dataset=dataset_res, output_label=ouput_label, test_size=0.1)"
   ]
  },
  {
   "cell_type": "code",
   "execution_count": 29,
   "metadata": {},
   "outputs": [],
   "source": [
    "input_train = np.asarray( input_train)\n",
    "input_test = np.asarray( input_test)\n",
    "output_train =np.asarray( output_train)\n",
    "output_test =np.asarray( output_test)"
   ]
  },
  {
   "cell_type": "code",
   "execution_count": 30,
   "metadata": {},
   "outputs": [
    {
     "name": "stdout",
     "output_type": "stream",
     "text": [
      "Model: \"sequential_3\"\n",
      "_________________________________________________________________\n",
      " Layer (type)                Output Shape              Param #   \n",
      "=================================================================\n",
      " dense_6 (Dense)             (None, 64)                576       \n",
      "                                                                 \n",
      " dense_7 (Dense)             (None, 1)                 65        \n",
      "                                                                 \n",
      "=================================================================\n",
      "Total params: 641\n",
      "Trainable params: 641\n",
      "Non-trainable params: 0\n",
      "_________________________________________________________________\n"
     ]
    }
   ],
   "source": [
    "\n",
    "# Modelo de rede perceptron multicamadas com uma camada oculta de 64 neurônios\n",
    "# e camada de saída com 1 neurônios (1 classes)\n",
    "model = tf.keras.models.Sequential()\n",
    "model.add(tf.keras.layers.Dense(64, input_dim=8, activation='sigmoid'))\n",
    "model.add(tf.keras.layers.Dense(1, activation='sigmoid'))\n",
    "model.summary() #visualizando o modelo\n",
    "\n"
   ]
  },
  {
   "cell_type": "code",
   "execution_count": 31,
   "metadata": {},
   "outputs": [
    {
     "name": "stdout",
     "output_type": "stream",
     "text": [
      "Epoch 1/50\n",
      "130/130 [==============================] - 1s 3ms/step - loss: 0.5666 - mse: 0.1899 - val_loss: 0.4689 - val_mse: 0.1466\n",
      "Epoch 2/50\n",
      "130/130 [==============================] - 0s 2ms/step - loss: 0.4185 - mse: 0.1278 - val_loss: 0.3767 - val_mse: 0.1132\n",
      "Epoch 3/50\n",
      "130/130 [==============================] - 0s 2ms/step - loss: 0.3564 - mse: 0.1063 - val_loss: 0.3315 - val_mse: 0.0984\n",
      "Epoch 4/50\n",
      "130/130 [==============================] - 0s 2ms/step - loss: 0.3203 - mse: 0.0940 - val_loss: 0.3034 - val_mse: 0.0889\n",
      "Epoch 5/50\n",
      "130/130 [==============================] - 0s 2ms/step - loss: 0.2946 - mse: 0.0853 - val_loss: 0.2832 - val_mse: 0.0818\n",
      "Epoch 6/50\n",
      "130/130 [==============================] - 0s 2ms/step - loss: 0.2744 - mse: 0.0786 - val_loss: 0.2702 - val_mse: 0.0769\n",
      "Epoch 7/50\n",
      "130/130 [==============================] - 0s 2ms/step - loss: 0.2607 - mse: 0.0739 - val_loss: 0.2612 - val_mse: 0.0742\n",
      "Epoch 8/50\n",
      "130/130 [==============================] - 0s 1ms/step - loss: 0.2508 - mse: 0.0708 - val_loss: 0.2562 - val_mse: 0.0721\n",
      "Epoch 9/50\n",
      "130/130 [==============================] - 0s 2ms/step - loss: 0.2438 - mse: 0.0690 - val_loss: 0.2539 - val_mse: 0.0702\n",
      "Epoch 10/50\n",
      "130/130 [==============================] - 0s 2ms/step - loss: 0.2386 - mse: 0.0668 - val_loss: 0.2522 - val_mse: 0.0692\n",
      "Epoch 11/50\n",
      "130/130 [==============================] - 0s 2ms/step - loss: 0.2346 - mse: 0.0662 - val_loss: 0.2507 - val_mse: 0.0684\n",
      "Epoch 12/50\n",
      "130/130 [==============================] - 0s 2ms/step - loss: 0.2316 - mse: 0.0648 - val_loss: 0.2487 - val_mse: 0.0688\n",
      "Epoch 13/50\n",
      "130/130 [==============================] - 0s 2ms/step - loss: 0.2290 - mse: 0.0647 - val_loss: 0.2463 - val_mse: 0.0676\n",
      "Epoch 14/50\n",
      "130/130 [==============================] - 0s 1ms/step - loss: 0.2262 - mse: 0.0639 - val_loss: 0.2446 - val_mse: 0.0670\n",
      "Epoch 15/50\n",
      "130/130 [==============================] - 0s 2ms/step - loss: 0.2234 - mse: 0.0632 - val_loss: 0.2418 - val_mse: 0.0664\n",
      "Epoch 16/50\n",
      "130/130 [==============================] - 0s 2ms/step - loss: 0.2203 - mse: 0.0623 - val_loss: 0.2395 - val_mse: 0.0667\n",
      "Epoch 17/50\n",
      "130/130 [==============================] - 0s 2ms/step - loss: 0.2173 - mse: 0.0619 - val_loss: 0.2356 - val_mse: 0.0655\n",
      "Epoch 18/50\n",
      "130/130 [==============================] - 0s 2ms/step - loss: 0.2132 - mse: 0.0607 - val_loss: 0.2325 - val_mse: 0.0661\n",
      "Epoch 19/50\n",
      "130/130 [==============================] - 0s 2ms/step - loss: 0.2098 - mse: 0.0601 - val_loss: 0.2281 - val_mse: 0.0639\n",
      "Epoch 20/50\n",
      "130/130 [==============================] - 0s 1ms/step - loss: 0.2069 - mse: 0.0592 - val_loss: 0.2241 - val_mse: 0.0624\n",
      "Epoch 21/50\n",
      "130/130 [==============================] - 0s 2ms/step - loss: 0.2028 - mse: 0.0583 - val_loss: 0.2198 - val_mse: 0.0617\n",
      "Epoch 22/50\n",
      "130/130 [==============================] - 0s 1ms/step - loss: 0.1991 - mse: 0.0576 - val_loss: 0.2160 - val_mse: 0.0603\n",
      "Epoch 23/50\n",
      "130/130 [==============================] - 0s 3ms/step - loss: 0.1953 - mse: 0.0561 - val_loss: 0.2118 - val_mse: 0.0598\n",
      "Epoch 24/50\n",
      "130/130 [==============================] - 0s 2ms/step - loss: 0.1914 - mse: 0.0554 - val_loss: 0.2075 - val_mse: 0.0587\n",
      "Epoch 25/50\n",
      "130/130 [==============================] - 0s 2ms/step - loss: 0.1879 - mse: 0.0542 - val_loss: 0.2042 - val_mse: 0.0582\n",
      "Epoch 26/50\n",
      "130/130 [==============================] - 0s 1ms/step - loss: 0.1842 - mse: 0.0533 - val_loss: 0.1998 - val_mse: 0.0569\n",
      "Epoch 27/50\n",
      "130/130 [==============================] - 0s 2ms/step - loss: 0.1802 - mse: 0.0518 - val_loss: 0.1966 - val_mse: 0.0558\n",
      "Epoch 28/50\n",
      "130/130 [==============================] - 0s 2ms/step - loss: 0.1767 - mse: 0.0510 - val_loss: 0.1932 - val_mse: 0.0541\n",
      "Epoch 29/50\n",
      "130/130 [==============================] - 0s 2ms/step - loss: 0.1733 - mse: 0.0498 - val_loss: 0.1894 - val_mse: 0.0538\n",
      "Epoch 30/50\n",
      "130/130 [==============================] - 0s 2ms/step - loss: 0.1704 - mse: 0.0488 - val_loss: 0.1867 - val_mse: 0.0530\n",
      "Epoch 31/50\n",
      "130/130 [==============================] - 0s 1ms/step - loss: 0.1676 - mse: 0.0479 - val_loss: 0.1838 - val_mse: 0.0519\n",
      "Epoch 32/50\n",
      "130/130 [==============================] - 0s 2ms/step - loss: 0.1649 - mse: 0.0472 - val_loss: 0.1816 - val_mse: 0.0508\n",
      "Epoch 33/50\n",
      "130/130 [==============================] - 0s 2ms/step - loss: 0.1624 - mse: 0.0461 - val_loss: 0.1794 - val_mse: 0.0509\n",
      "Epoch 34/50\n",
      "130/130 [==============================] - 0s 2ms/step - loss: 0.1603 - mse: 0.0456 - val_loss: 0.1775 - val_mse: 0.0502\n",
      "Epoch 35/50\n",
      "130/130 [==============================] - 0s 2ms/step - loss: 0.1577 - mse: 0.0446 - val_loss: 0.1752 - val_mse: 0.0490\n",
      "Epoch 36/50\n",
      "130/130 [==============================] - 0s 1ms/step - loss: 0.1554 - mse: 0.0437 - val_loss: 0.1735 - val_mse: 0.0488\n",
      "Epoch 37/50\n",
      "130/130 [==============================] - 0s 1ms/step - loss: 0.1538 - mse: 0.0435 - val_loss: 0.1716 - val_mse: 0.0480\n",
      "Epoch 38/50\n",
      "130/130 [==============================] - 0s 1ms/step - loss: 0.1518 - mse: 0.0427 - val_loss: 0.1702 - val_mse: 0.0475\n",
      "Epoch 39/50\n",
      "130/130 [==============================] - 0s 2ms/step - loss: 0.1499 - mse: 0.0421 - val_loss: 0.1691 - val_mse: 0.0469\n",
      "Epoch 40/50\n",
      "130/130 [==============================] - 0s 2ms/step - loss: 0.1482 - mse: 0.0414 - val_loss: 0.1677 - val_mse: 0.0463\n",
      "Epoch 41/50\n",
      "130/130 [==============================] - 0s 1ms/step - loss: 0.1466 - mse: 0.0408 - val_loss: 0.1666 - val_mse: 0.0458\n",
      "Epoch 42/50\n",
      "130/130 [==============================] - 0s 2ms/step - loss: 0.1453 - mse: 0.0404 - val_loss: 0.1654 - val_mse: 0.0454\n",
      "Epoch 43/50\n",
      "130/130 [==============================] - 0s 1ms/step - loss: 0.1439 - mse: 0.0399 - val_loss: 0.1645 - val_mse: 0.0452\n",
      "Epoch 44/50\n",
      "130/130 [==============================] - 0s 1ms/step - loss: 0.1424 - mse: 0.0394 - val_loss: 0.1638 - val_mse: 0.0452\n",
      "Epoch 45/50\n",
      "130/130 [==============================] - 0s 1ms/step - loss: 0.1419 - mse: 0.0393 - val_loss: 0.1625 - val_mse: 0.0444\n",
      "Epoch 46/50\n",
      "130/130 [==============================] - 0s 2ms/step - loss: 0.1401 - mse: 0.0385 - val_loss: 0.1619 - val_mse: 0.0444\n",
      "Epoch 47/50\n",
      "130/130 [==============================] - 0s 2ms/step - loss: 0.1391 - mse: 0.0384 - val_loss: 0.1611 - val_mse: 0.0434\n",
      "Epoch 48/50\n",
      "130/130 [==============================] - 0s 2ms/step - loss: 0.1385 - mse: 0.0379 - val_loss: 0.1602 - val_mse: 0.0435\n",
      "Epoch 49/50\n",
      "130/130 [==============================] - 0s 2ms/step - loss: 0.1371 - mse: 0.0375 - val_loss: 0.1602 - val_mse: 0.0438\n",
      "Epoch 50/50\n",
      "130/130 [==============================] - 0s 2ms/step - loss: 0.1360 - mse: 0.0372 - val_loss: 0.1589 - val_mse: 0.0429\n"
     ]
    }
   ],
   "source": [
    "\n",
    "\n",
    "# Compile model\n",
    "# Otimizador Adam com taxa de aprendizado de 0.01\n",
    "opt = tf.keras.optimizers.Adam()\n",
    "# Função de custo categorical_crossentropy (para problemas de classificação com mais de duas classes)\n",
    "# Métrica de avaliação MSE (Mean Squared Error)\n",
    "model.compile(loss='binary_crossentropy', optimizer=opt, metrics=['mse'])\n",
    "\n",
    "# Train model\n",
    "history = model.fit(input_train, output_train, validation_split=0.2, epochs=50)\n"
   ]
  },
  {
   "cell_type": "code",
   "execution_count": 32,
   "metadata": {},
   "outputs": [
    {
     "data": {
      "image/png": "[encoded data removed]",
      "text/plain": [
       "<Figure size 640x480 with 1 Axes>"
      ]
     },
     "metadata": {},
     "output_type": "display_data"
    }
   ],
   "source": [
    "\n",
    "# Plot training & validation accuracy values\n",
    "plt.plot(history.history['loss'])\n",
    "plt.plot(history.history['val_loss'])\n",
    "plt.title('Função Perda')\n",
    "plt.ylabel('MSE')\n",
    "plt.xlabel('Epocas')\n",
    "plt.legend(['Treino', 'Teste'], loc='upper left')\n",
    "plt.show()\n",
    "\n"
   ]
  },
  {
   "cell_type": "code",
   "execution_count": null,
   "metadata": {},
   "outputs": [],
   "source": [
    "\n",
    "#padronizando os dados de teste\n",
    "sc = StandardScaler()\n",
    "sc.fit(input_train)\n",
    "\n",
    "\n",
    "# esse teste é de um paciente doente (1)\n",
    "teste = [[45, 0, 0, 1.9, 1.0,\t82.0,\t0.73,\t112.0]]\n",
    "teste = sc.transform(teste)\n",
    "# Predict\n",
    "\"\"\"\n",
    "    1 - Sick\n",
    "    0 - Normal\n",
    "\"\"\"\n",
    "y_predd = model.predict(teste)\n",
    "y_predd = np.argmax(y_predd, axis=1)+1 \n",
    "print(\"A classe é:\",  y_predd[-1])"
   ]
  }
 ],
 "metadata": {
  "kernelspec": {
   "display_name": "cilab",
   "language": "python",
   "name": "python3"
  },
  "language_info": {
   "codemirror_mode": {
    "name": "ipython",
    "version": 3
   },
   "file_extension": ".py",
   "mimetype": "text/x-python",
   "name": "python",
   "nbconvert_exporter": "python",
   "pygments_lexer": "ipython3",
   "version": "3.10.4"
  },
  "orig_nbformat": 4
 },
 "nbformat": 4,
 "nbformat_minor": 2
}
